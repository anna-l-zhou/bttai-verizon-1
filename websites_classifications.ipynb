{
  "cells": [
    {
      "cell_type": "code",
      "execution_count": 1,
      "metadata": {
        "id": "GIRx_wx5cmxB"
      },
      "outputs": [],
      "source": [
        "import pandas as pd\n",
        "import numpy as np\n",
        "from scipy.stats import randint\n",
        "import seaborn as sns # used for plot interactive graph.\n",
        "import matplotlib.pyplot as plt\n",
        "import seaborn as sns\n",
        "from io import StringIO\n",
        "from sklearn.feature_extraction.text import TfidfVectorizer\n",
        "from sklearn.feature_selection import chi2\n",
        "from IPython.display import display\n",
        "from sklearn.model_selection import train_test_split\n",
        "from sklearn.feature_extraction.text import TfidfTransformer\n",
        "from sklearn.naive_bayes import MultinomialNB\n",
        "from sklearn.linear_model import LogisticRegression\n",
        "from sklearn.ensemble import RandomForestClassifier\n",
        "from sklearn.svm import LinearSVC\n",
        "from sklearn.model_selection import cross_val_score\n",
        "from sklearn.metrics import confusion_matrix\n",
        "from sklearn import metrics\n",
        "from sklearn.naive_bayes import GaussianNB\n",
        "from sklearn.calibration import CalibratedClassifierCV"
      ]
    },
    {
      "cell_type": "code",
      "execution_count": 2,
      "metadata": {
        "colab": {
          "base_uri": "https://localhost:8080/"
        },
        "id": "LQ9pcrQZdQy-",
        "outputId": "46c8edea-919b-4322-b5fa-7554e66fe45b"
      },
      "outputs": [
        {
          "data": {
            "text/plain": [
              "(1408, 4)"
            ]
          },
          "execution_count": 2,
          "metadata": {},
          "output_type": "execute_result"
        }
      ],
      "source": [
        "dataset = pd.read_csv('website_classification.csv')\n",
        "dataset.shape"
      ]
    },
    {
      "cell_type": "code",
      "execution_count": 3,
      "metadata": {
        "colab": {
          "base_uri": "https://localhost:8080/",
          "height": 204
        },
        "id": "Nm47yhDgdjHf",
        "outputId": "1d4076d2-65db-4515-d5cf-cb9394de4e5f"
      },
      "outputs": [
        {
          "data": {
            "text/html": [
              "<div>\n",
              "<style scoped>\n",
              "    .dataframe tbody tr th:only-of-type {\n",
              "        vertical-align: middle;\n",
              "    }\n",
              "\n",
              "    .dataframe tbody tr th {\n",
              "        vertical-align: top;\n",
              "    }\n",
              "\n",
              "    .dataframe thead th {\n",
              "        text-align: right;\n",
              "    }\n",
              "</style>\n",
              "<table border=\"1\" class=\"dataframe\">\n",
              "  <thead>\n",
              "    <tr style=\"text-align: right;\">\n",
              "      <th></th>\n",
              "      <th>Unnamed: 0</th>\n",
              "      <th>website_url</th>\n",
              "      <th>cleaned_website_text</th>\n",
              "      <th>Category</th>\n",
              "    </tr>\n",
              "  </thead>\n",
              "  <tbody>\n",
              "    <tr>\n",
              "      <th>0</th>\n",
              "      <td>0</td>\n",
              "      <td>https://www.booking.com/index.html?aid=1743217</td>\n",
              "      <td>official site good hotel accommodation big sav...</td>\n",
              "      <td>Travel</td>\n",
              "    </tr>\n",
              "    <tr>\n",
              "      <th>1</th>\n",
              "      <td>1</td>\n",
              "      <td>https://travelsites.com/expedia/</td>\n",
              "      <td>expedia hotel book sites like use vacation wor...</td>\n",
              "      <td>Travel</td>\n",
              "    </tr>\n",
              "    <tr>\n",
              "      <th>2</th>\n",
              "      <td>2</td>\n",
              "      <td>https://travelsites.com/tripadvisor/</td>\n",
              "      <td>tripadvisor hotel book sites like previously d...</td>\n",
              "      <td>Travel</td>\n",
              "    </tr>\n",
              "    <tr>\n",
              "      <th>3</th>\n",
              "      <td>3</td>\n",
              "      <td>https://www.momondo.in/?ispredir=true</td>\n",
              "      <td>cheap flights search compare flights momondo f...</td>\n",
              "      <td>Travel</td>\n",
              "    </tr>\n",
              "    <tr>\n",
              "      <th>4</th>\n",
              "      <td>4</td>\n",
              "      <td>https://www.ebookers.com/?AFFCID=EBOOKERS-UK.n...</td>\n",
              "      <td>bot create free account create free account si...</td>\n",
              "      <td>Travel</td>\n",
              "    </tr>\n",
              "  </tbody>\n",
              "</table>\n",
              "</div>"
            ],
            "text/plain": [
              "   Unnamed: 0                                        website_url  \\\n",
              "0           0     https://www.booking.com/index.html?aid=1743217   \n",
              "1           1                   https://travelsites.com/expedia/   \n",
              "2           2               https://travelsites.com/tripadvisor/   \n",
              "3           3              https://www.momondo.in/?ispredir=true   \n",
              "4           4  https://www.ebookers.com/?AFFCID=EBOOKERS-UK.n...   \n",
              "\n",
              "                                cleaned_website_text Category  \n",
              "0  official site good hotel accommodation big sav...   Travel  \n",
              "1  expedia hotel book sites like use vacation wor...   Travel  \n",
              "2  tripadvisor hotel book sites like previously d...   Travel  \n",
              "3  cheap flights search compare flights momondo f...   Travel  \n",
              "4  bot create free account create free account si...   Travel  "
            ]
          },
          "execution_count": 3,
          "metadata": {},
          "output_type": "execute_result"
        }
      ],
      "source": [
        "dataset.head()"
      ]
    },
    {
      "cell_type": "code",
      "execution_count": 4,
      "metadata": {
        "colab": {
          "base_uri": "https://localhost:8080/",
          "height": 204
        },
        "id": "YgGCfXy_dt8-",
        "outputId": "5d23ec40-21fa-4fde-db73-3560cbde9fae"
      },
      "outputs": [
        {
          "data": {
            "text/html": [
              "<div>\n",
              "<style scoped>\n",
              "    .dataframe tbody tr th:only-of-type {\n",
              "        vertical-align: middle;\n",
              "    }\n",
              "\n",
              "    .dataframe tbody tr th {\n",
              "        vertical-align: top;\n",
              "    }\n",
              "\n",
              "    .dataframe thead th {\n",
              "        text-align: right;\n",
              "    }\n",
              "</style>\n",
              "<table border=\"1\" class=\"dataframe\">\n",
              "  <thead>\n",
              "    <tr style=\"text-align: right;\">\n",
              "      <th></th>\n",
              "      <th>website_url</th>\n",
              "      <th>cleaned_website_text</th>\n",
              "      <th>Category</th>\n",
              "    </tr>\n",
              "  </thead>\n",
              "  <tbody>\n",
              "    <tr>\n",
              "      <th>0</th>\n",
              "      <td>https://www.booking.com/index.html?aid=1743217</td>\n",
              "      <td>official site good hotel accommodation big sav...</td>\n",
              "      <td>Travel</td>\n",
              "    </tr>\n",
              "    <tr>\n",
              "      <th>1</th>\n",
              "      <td>https://travelsites.com/expedia/</td>\n",
              "      <td>expedia hotel book sites like use vacation wor...</td>\n",
              "      <td>Travel</td>\n",
              "    </tr>\n",
              "    <tr>\n",
              "      <th>2</th>\n",
              "      <td>https://travelsites.com/tripadvisor/</td>\n",
              "      <td>tripadvisor hotel book sites like previously d...</td>\n",
              "      <td>Travel</td>\n",
              "    </tr>\n",
              "    <tr>\n",
              "      <th>3</th>\n",
              "      <td>https://www.momondo.in/?ispredir=true</td>\n",
              "      <td>cheap flights search compare flights momondo f...</td>\n",
              "      <td>Travel</td>\n",
              "    </tr>\n",
              "    <tr>\n",
              "      <th>4</th>\n",
              "      <td>https://www.ebookers.com/?AFFCID=EBOOKERS-UK.n...</td>\n",
              "      <td>bot create free account create free account si...</td>\n",
              "      <td>Travel</td>\n",
              "    </tr>\n",
              "  </tbody>\n",
              "</table>\n",
              "</div>"
            ],
            "text/plain": [
              "                                         website_url  \\\n",
              "0     https://www.booking.com/index.html?aid=1743217   \n",
              "1                   https://travelsites.com/expedia/   \n",
              "2               https://travelsites.com/tripadvisor/   \n",
              "3              https://www.momondo.in/?ispredir=true   \n",
              "4  https://www.ebookers.com/?AFFCID=EBOOKERS-UK.n...   \n",
              "\n",
              "                                cleaned_website_text Category  \n",
              "0  official site good hotel accommodation big sav...   Travel  \n",
              "1  expedia hotel book sites like use vacation wor...   Travel  \n",
              "2  tripadvisor hotel book sites like previously d...   Travel  \n",
              "3  cheap flights search compare flights momondo f...   Travel  \n",
              "4  bot create free account create free account si...   Travel  "
            ]
          },
          "execution_count": 4,
          "metadata": {},
          "output_type": "execute_result"
        }
      ],
      "source": [
        "df = dataset[['website_url','cleaned_website_text','Category']].copy()\n",
        "df.head()"
      ]
    },
    {
      "cell_type": "code",
      "execution_count": 5,
      "metadata": {
        "colab": {
          "base_uri": "https://localhost:8080/",
          "height": 204
        },
        "id": "H6Zq6x0gdlCz",
        "outputId": "83f1fe86-8f62-4a2a-eb5e-52bd2d3f4a74"
      },
      "outputs": [
        {
          "data": {
            "text/html": [
              "<div>\n",
              "<style scoped>\n",
              "    .dataframe tbody tr th:only-of-type {\n",
              "        vertical-align: middle;\n",
              "    }\n",
              "\n",
              "    .dataframe tbody tr th {\n",
              "        vertical-align: top;\n",
              "    }\n",
              "\n",
              "    .dataframe thead th {\n",
              "        text-align: right;\n",
              "    }\n",
              "</style>\n",
              "<table border=\"1\" class=\"dataframe\">\n",
              "  <thead>\n",
              "    <tr style=\"text-align: right;\">\n",
              "      <th></th>\n",
              "      <th>website_url</th>\n",
              "      <th>cleaned_website_text</th>\n",
              "      <th>Category</th>\n",
              "      <th>category_id</th>\n",
              "    </tr>\n",
              "  </thead>\n",
              "  <tbody>\n",
              "    <tr>\n",
              "      <th>0</th>\n",
              "      <td>https://www.booking.com/index.html?aid=1743217</td>\n",
              "      <td>official site good hotel accommodation big sav...</td>\n",
              "      <td>Travel</td>\n",
              "      <td>0</td>\n",
              "    </tr>\n",
              "    <tr>\n",
              "      <th>1</th>\n",
              "      <td>https://travelsites.com/expedia/</td>\n",
              "      <td>expedia hotel book sites like use vacation wor...</td>\n",
              "      <td>Travel</td>\n",
              "      <td>0</td>\n",
              "    </tr>\n",
              "    <tr>\n",
              "      <th>2</th>\n",
              "      <td>https://travelsites.com/tripadvisor/</td>\n",
              "      <td>tripadvisor hotel book sites like previously d...</td>\n",
              "      <td>Travel</td>\n",
              "      <td>0</td>\n",
              "    </tr>\n",
              "    <tr>\n",
              "      <th>3</th>\n",
              "      <td>https://www.momondo.in/?ispredir=true</td>\n",
              "      <td>cheap flights search compare flights momondo f...</td>\n",
              "      <td>Travel</td>\n",
              "      <td>0</td>\n",
              "    </tr>\n",
              "    <tr>\n",
              "      <th>4</th>\n",
              "      <td>https://www.ebookers.com/?AFFCID=EBOOKERS-UK.n...</td>\n",
              "      <td>bot create free account create free account si...</td>\n",
              "      <td>Travel</td>\n",
              "      <td>0</td>\n",
              "    </tr>\n",
              "  </tbody>\n",
              "</table>\n",
              "</div>"
            ],
            "text/plain": [
              "                                         website_url  \\\n",
              "0     https://www.booking.com/index.html?aid=1743217   \n",
              "1                   https://travelsites.com/expedia/   \n",
              "2               https://travelsites.com/tripadvisor/   \n",
              "3              https://www.momondo.in/?ispredir=true   \n",
              "4  https://www.ebookers.com/?AFFCID=EBOOKERS-UK.n...   \n",
              "\n",
              "                                cleaned_website_text Category  category_id  \n",
              "0  official site good hotel accommodation big sav...   Travel            0  \n",
              "1  expedia hotel book sites like use vacation wor...   Travel            0  \n",
              "2  tripadvisor hotel book sites like previously d...   Travel            0  \n",
              "3  cheap flights search compare flights momondo f...   Travel            0  \n",
              "4  bot create free account create free account si...   Travel            0  "
            ]
          },
          "execution_count": 5,
          "metadata": {},
          "output_type": "execute_result"
        }
      ],
      "source": [
        "# Create a new column 'category_id' with encoded categories\n",
        "df['category_id'] = df['Category'].factorize()[0]\n",
        "category_id_df = df[['Category', 'category_id']].drop_duplicates()\n",
        "\n",
        "\n",
        "# Dictionaries for future use\n",
        "category_to_id = dict(category_id_df.values)\n",
        "id_to_category = dict(category_id_df[['category_id', 'Category']].values)\n",
        "\n",
        "# New dataframe\n",
        "df.head()"
      ]
    },
    {
      "cell_type": "markdown",
      "metadata": {
        "id": "Q-8gCwo-d3uH"
      },
      "source": [
        "## Vectorize Websites Classifications\n",
        "Prepare text description to train the model"
      ]
    },
    {
      "cell_type": "code",
      "execution_count": 6,
      "metadata": {
        "colab": {
          "base_uri": "https://localhost:8080/"
        },
        "id": "S_jNuODZdw4e",
        "outputId": "94590b57-d1a3-420c-9d86-875fe8835384"
      },
      "outputs": [
        {
          "name": "stdout",
          "output_type": "stream",
          "text": [
            "Each of the 1408 text is represented by 18865 features (TF-IDF score of unigrams and bigrams)\n"
          ]
        }
      ],
      "source": [
        "tfidf = TfidfVectorizer(sublinear_tf=True, min_df=5,\n",
        "                        ngram_range=(1, 2),\n",
        "                        stop_words='english')\n",
        "\n",
        "# We transform each cleaned_text into a vector\n",
        "features = tfidf.fit_transform(df.cleaned_website_text).toarray()\n",
        "\n",
        "labels = df.category_id\n",
        "\n",
        "print(\"Each of the %d text is represented by %d features (TF-IDF score of unigrams and bigrams)\" %(features.shape))"
      ]
    },
    {
      "cell_type": "markdown",
      "metadata": {
        "id": "I-Q8jAYBeP2x"
      },
      "source": [
        "Spliting the data into train and test sets The original data was divided into features (X) and target (y), which were then splitted into train (75%) and test (25%) sets. Thus, the algorithms would be trained on one set of data and tested out on a completely different set of data (not seen before by the algorithm)."
      ]
    },
    {
      "cell_type": "code",
      "execution_count": 7,
      "metadata": {
        "id": "x4ABWpHueKil"
      },
      "outputs": [],
      "source": [
        "X = df['cleaned_website_text'] # Collection of text\n",
        "y = df['Category'] # Target or the labels we want to predict\n",
        "\n",
        "X_train, X_test, y_train, y_test = train_test_split(X, y,\n",
        "                                                    test_size=0.25,\n",
        "                                                    random_state = 0)"
      ]
    },
    {
      "cell_type": "code",
      "execution_count": 8,
      "metadata": {
        "colab": {
          "base_uri": "https://localhost:8080/",
          "height": 669
        },
        "id": "d17b06IQeToR",
        "outputId": "746da39e-0741-414d-cf53-e09f8ca3b5ec"
      },
      "outputs": [
        {
          "name": "stderr",
          "output_type": "stream",
          "text": [
            "c:\\Users\\Annq Zhou\\AppData\\Local\\Programs\\Python\\Python311\\Lib\\site-packages\\sklearn\\svm\\_classes.py:32: FutureWarning: The default value of `dual` will change from `True` to `'auto'` in 1.5. Set the value of `dual` explicitly to suppress the warning.\n",
            "  warnings.warn(\n",
            "c:\\Users\\Annq Zhou\\AppData\\Local\\Programs\\Python\\Python311\\Lib\\site-packages\\sklearn\\svm\\_classes.py:32: FutureWarning: The default value of `dual` will change from `True` to `'auto'` in 1.5. Set the value of `dual` explicitly to suppress the warning.\n",
            "  warnings.warn(\n",
            "c:\\Users\\Annq Zhou\\AppData\\Local\\Programs\\Python\\Python311\\Lib\\site-packages\\sklearn\\svm\\_classes.py:32: FutureWarning: The default value of `dual` will change from `True` to `'auto'` in 1.5. Set the value of `dual` explicitly to suppress the warning.\n",
            "  warnings.warn(\n",
            "c:\\Users\\Annq Zhou\\AppData\\Local\\Programs\\Python\\Python311\\Lib\\site-packages\\sklearn\\svm\\_classes.py:32: FutureWarning: The default value of `dual` will change from `True` to `'auto'` in 1.5. Set the value of `dual` explicitly to suppress the warning.\n",
            "  warnings.warn(\n",
            "c:\\Users\\Annq Zhou\\AppData\\Local\\Programs\\Python\\Python311\\Lib\\site-packages\\sklearn\\svm\\_classes.py:32: FutureWarning: The default value of `dual` will change from `True` to `'auto'` in 1.5. Set the value of `dual` explicitly to suppress the warning.\n",
            "  warnings.warn(\n"
          ]
        },
        {
          "data": {
            "text/html": [
              "<div>\n",
              "<style scoped>\n",
              "    .dataframe tbody tr th:only-of-type {\n",
              "        vertical-align: middle;\n",
              "    }\n",
              "\n",
              "    .dataframe tbody tr th {\n",
              "        vertical-align: top;\n",
              "    }\n",
              "\n",
              "    .dataframe thead th {\n",
              "        text-align: right;\n",
              "    }\n",
              "</style>\n",
              "<table border=\"1\" class=\"dataframe\">\n",
              "  <thead>\n",
              "    <tr style=\"text-align: right;\">\n",
              "      <th></th>\n",
              "      <th>model_name</th>\n",
              "      <th>fold_idx</th>\n",
              "      <th>accuracy</th>\n",
              "    </tr>\n",
              "  </thead>\n",
              "  <tbody>\n",
              "    <tr>\n",
              "      <th>0</th>\n",
              "      <td>RandomForestClassifier</td>\n",
              "      <td>0</td>\n",
              "      <td>0.719858</td>\n",
              "    </tr>\n",
              "    <tr>\n",
              "      <th>1</th>\n",
              "      <td>RandomForestClassifier</td>\n",
              "      <td>1</td>\n",
              "      <td>0.751773</td>\n",
              "    </tr>\n",
              "    <tr>\n",
              "      <th>2</th>\n",
              "      <td>RandomForestClassifier</td>\n",
              "      <td>2</td>\n",
              "      <td>0.716312</td>\n",
              "    </tr>\n",
              "    <tr>\n",
              "      <th>3</th>\n",
              "      <td>RandomForestClassifier</td>\n",
              "      <td>3</td>\n",
              "      <td>0.736655</td>\n",
              "    </tr>\n",
              "    <tr>\n",
              "      <th>4</th>\n",
              "      <td>RandomForestClassifier</td>\n",
              "      <td>4</td>\n",
              "      <td>0.679715</td>\n",
              "    </tr>\n",
              "    <tr>\n",
              "      <th>5</th>\n",
              "      <td>LinearSVC</td>\n",
              "      <td>0</td>\n",
              "      <td>0.858156</td>\n",
              "    </tr>\n",
              "    <tr>\n",
              "      <th>6</th>\n",
              "      <td>LinearSVC</td>\n",
              "      <td>1</td>\n",
              "      <td>0.932624</td>\n",
              "    </tr>\n",
              "    <tr>\n",
              "      <th>7</th>\n",
              "      <td>LinearSVC</td>\n",
              "      <td>2</td>\n",
              "      <td>0.939716</td>\n",
              "    </tr>\n",
              "    <tr>\n",
              "      <th>8</th>\n",
              "      <td>LinearSVC</td>\n",
              "      <td>3</td>\n",
              "      <td>0.903915</td>\n",
              "    </tr>\n",
              "    <tr>\n",
              "      <th>9</th>\n",
              "      <td>LinearSVC</td>\n",
              "      <td>4</td>\n",
              "      <td>0.879004</td>\n",
              "    </tr>\n",
              "    <tr>\n",
              "      <th>10</th>\n",
              "      <td>MultinomialNB</td>\n",
              "      <td>0</td>\n",
              "      <td>0.812057</td>\n",
              "    </tr>\n",
              "    <tr>\n",
              "      <th>11</th>\n",
              "      <td>MultinomialNB</td>\n",
              "      <td>1</td>\n",
              "      <td>0.879433</td>\n",
              "    </tr>\n",
              "    <tr>\n",
              "      <th>12</th>\n",
              "      <td>MultinomialNB</td>\n",
              "      <td>2</td>\n",
              "      <td>0.872340</td>\n",
              "    </tr>\n",
              "    <tr>\n",
              "      <th>13</th>\n",
              "      <td>MultinomialNB</td>\n",
              "      <td>3</td>\n",
              "      <td>0.882562</td>\n",
              "    </tr>\n",
              "    <tr>\n",
              "      <th>14</th>\n",
              "      <td>MultinomialNB</td>\n",
              "      <td>4</td>\n",
              "      <td>0.818505</td>\n",
              "    </tr>\n",
              "    <tr>\n",
              "      <th>15</th>\n",
              "      <td>GaussianNB</td>\n",
              "      <td>0</td>\n",
              "      <td>0.702128</td>\n",
              "    </tr>\n",
              "    <tr>\n",
              "      <th>16</th>\n",
              "      <td>GaussianNB</td>\n",
              "      <td>1</td>\n",
              "      <td>0.762411</td>\n",
              "    </tr>\n",
              "    <tr>\n",
              "      <th>17</th>\n",
              "      <td>GaussianNB</td>\n",
              "      <td>2</td>\n",
              "      <td>0.780142</td>\n",
              "    </tr>\n",
              "    <tr>\n",
              "      <th>18</th>\n",
              "      <td>GaussianNB</td>\n",
              "      <td>3</td>\n",
              "      <td>0.754448</td>\n",
              "    </tr>\n",
              "    <tr>\n",
              "      <th>19</th>\n",
              "      <td>GaussianNB</td>\n",
              "      <td>4</td>\n",
              "      <td>0.644128</td>\n",
              "    </tr>\n",
              "  </tbody>\n",
              "</table>\n",
              "</div>"
            ],
            "text/plain": [
              "                model_name  fold_idx  accuracy\n",
              "0   RandomForestClassifier         0  0.719858\n",
              "1   RandomForestClassifier         1  0.751773\n",
              "2   RandomForestClassifier         2  0.716312\n",
              "3   RandomForestClassifier         3  0.736655\n",
              "4   RandomForestClassifier         4  0.679715\n",
              "5                LinearSVC         0  0.858156\n",
              "6                LinearSVC         1  0.932624\n",
              "7                LinearSVC         2  0.939716\n",
              "8                LinearSVC         3  0.903915\n",
              "9                LinearSVC         4  0.879004\n",
              "10           MultinomialNB         0  0.812057\n",
              "11           MultinomialNB         1  0.879433\n",
              "12           MultinomialNB         2  0.872340\n",
              "13           MultinomialNB         3  0.882562\n",
              "14           MultinomialNB         4  0.818505\n",
              "15              GaussianNB         0  0.702128\n",
              "16              GaussianNB         1  0.762411\n",
              "17              GaussianNB         2  0.780142\n",
              "18              GaussianNB         3  0.754448\n",
              "19              GaussianNB         4  0.644128"
            ]
          },
          "execution_count": 8,
          "metadata": {},
          "output_type": "execute_result"
        }
      ],
      "source": [
        "models = [\n",
        "    RandomForestClassifier(n_estimators=100, max_depth=5, random_state=0),\n",
        "    LinearSVC(),\n",
        "    MultinomialNB(),\n",
        "    GaussianNB()\n",
        "]\n",
        "\n",
        "# 5 Cross-validation\n",
        "CV = 5\n",
        "cv_df = pd.DataFrame(index=range(CV * len(models)))\n",
        "\n",
        "entries = []\n",
        "for model in models:\n",
        "  model_name = model.__class__.__name__\n",
        "  accuracies = cross_val_score(model, features, labels, scoring='accuracy', cv=CV)\n",
        "  for fold_idx, accuracy in enumerate(accuracies):\n",
        "    entries.append((model_name, fold_idx, accuracy))\n",
        "\n",
        "cv_df = pd.DataFrame(entries, columns=['model_name', 'fold_idx', 'accuracy'])\n",
        "cv_df"
      ]
    },
    {
      "cell_type": "code",
      "execution_count": 9,
      "metadata": {
        "colab": {
          "base_uri": "https://localhost:8080/",
          "height": 204
        },
        "id": "c34wsao6eirF",
        "outputId": "9ced3021-ddeb-475e-c427-018c75f8f1ec"
      },
      "outputs": [
        {
          "data": {
            "text/html": [
              "<div>\n",
              "<style scoped>\n",
              "    .dataframe tbody tr th:only-of-type {\n",
              "        vertical-align: middle;\n",
              "    }\n",
              "\n",
              "    .dataframe tbody tr th {\n",
              "        vertical-align: top;\n",
              "    }\n",
              "\n",
              "    .dataframe thead th {\n",
              "        text-align: right;\n",
              "    }\n",
              "</style>\n",
              "<table border=\"1\" class=\"dataframe\">\n",
              "  <thead>\n",
              "    <tr style=\"text-align: right;\">\n",
              "      <th></th>\n",
              "      <th>Mean Accuracy</th>\n",
              "      <th>Standard deviation</th>\n",
              "    </tr>\n",
              "    <tr>\n",
              "      <th>model_name</th>\n",
              "      <th></th>\n",
              "      <th></th>\n",
              "    </tr>\n",
              "  </thead>\n",
              "  <tbody>\n",
              "    <tr>\n",
              "      <th>GaussianNB</th>\n",
              "      <td>0.728651</td>\n",
              "      <td>0.055462</td>\n",
              "    </tr>\n",
              "    <tr>\n",
              "      <th>LinearSVC</th>\n",
              "      <td>0.902683</td>\n",
              "      <td>0.034687</td>\n",
              "    </tr>\n",
              "    <tr>\n",
              "      <th>MultinomialNB</th>\n",
              "      <td>0.852979</td>\n",
              "      <td>0.034688</td>\n",
              "    </tr>\n",
              "    <tr>\n",
              "      <th>RandomForestClassifier</th>\n",
              "      <td>0.720863</td>\n",
              "      <td>0.027017</td>\n",
              "    </tr>\n",
              "  </tbody>\n",
              "</table>\n",
              "</div>"
            ],
            "text/plain": [
              "                        Mean Accuracy  Standard deviation\n",
              "model_name                                               \n",
              "GaussianNB                   0.728651            0.055462\n",
              "LinearSVC                    0.902683            0.034687\n",
              "MultinomialNB                0.852979            0.034688\n",
              "RandomForestClassifier       0.720863            0.027017"
            ]
          },
          "execution_count": 9,
          "metadata": {},
          "output_type": "execute_result"
        }
      ],
      "source": [
        "mean_accuracy = cv_df.groupby('model_name').accuracy.mean()\n",
        "std_accuracy = cv_df.groupby('model_name').accuracy.std()\n",
        "\n",
        "acc = pd.concat([mean_accuracy, std_accuracy], axis= 1,\n",
        "          ignore_index=True)\n",
        "acc.columns = ['Mean Accuracy', 'Standard deviation']\n",
        "acc"
      ]
    },
    {
      "cell_type": "code",
      "execution_count": 10,
      "metadata": {
        "id": "WMoo3oPJej2Z"
      },
      "outputs": [
        {
          "name": "stderr",
          "output_type": "stream",
          "text": [
            "c:\\Users\\Annq Zhou\\AppData\\Local\\Programs\\Python\\Python311\\Lib\\site-packages\\sklearn\\svm\\_classes.py:32: FutureWarning: The default value of `dual` will change from `True` to `'auto'` in 1.5. Set the value of `dual` explicitly to suppress the warning.\n",
            "  warnings.warn(\n"
          ]
        }
      ],
      "source": [
        "X_train, X_test, y_train, y_test,indices_train,indices_test = train_test_split(features,\n",
        "                                                               labels,\n",
        "                                                               df.index, test_size=0.25,\n",
        "                                                               random_state=1)\n",
        "model = LinearSVC()\n",
        "model.fit(X_train, y_train)\n",
        "y_pred = model.predict(X_test)\n",
        "# calibrated_svc = CalibratedClassifierCV(base_estimator=model,\n",
        "#                                         cv=\"prefit\")\n",
        "\n",
        "# print(X_train, y_train)\n",
        "\n",
        "# calibrated_svc.fit(X_train,y_train)\n",
        "# predicted = calibrated_svc.predict(X_test)\n",
        "# print(metrics.accuracy_score(y_test, predicted))"
      ]
    },
    {
      "cell_type": "code",
      "execution_count": 11,
      "metadata": {
        "colab": {
          "base_uri": "https://localhost:8080/"
        },
        "id": "lIfsIoDjfMRX",
        "outputId": "dd27b73e-888b-421f-9715-6c317bad6491"
      },
      "outputs": [
        {
          "name": "stderr",
          "output_type": "stream",
          "text": [
            "c:\\Users\\Annq Zhou\\AppData\\Local\\Programs\\Python\\Python311\\Lib\\site-packages\\sklearn\\svm\\_classes.py:32: FutureWarning: The default value of `dual` will change from `True` to `'auto'` in 1.5. Set the value of `dual` explicitly to suppress the warning.\n",
            "  warnings.warn(\n"
          ]
        },
        {
          "name": "stdout",
          "output_type": "stream",
          "text": [
            "\n",
            "==> 'Adult':\n",
            "  * Top unigrams: bdsm, sex, erotic, bondage\n",
            "  * Top bigrams: erotic story, sex toy, sex toys, live sex\n",
            "\n",
            "==> 'Business/Corporate':\n",
            "  * Top unigrams: investment, client, company, business\n",
            "  * Top bigrams: real estate, audio visual, year experience, site work\n",
            "\n",
            "==> 'Computers and Technology':\n",
            "  * Top unigrams: software, file, web, windows\n",
            "  * Top bigrams: source code, web hosting, come soon, easy use\n",
            "\n",
            "==> 'E-Commerce':\n",
            "  * Top unigrams: shipping, grocery, item, gift\n",
            "  * Top bigrams: free shipping, gift card, grocery shopping, add cart\n",
            "\n",
            "==> 'Education':\n",
            "  * Top unigrams: university, science, student, chemistry\n",
            "  * Top bigrams: open access, multiple choice, annual meeting, state university\n",
            "\n",
            "==> 'Food':\n",
            "  * Top unigrams: recipe, cake, restaurant, tasty\n",
            "  * Top bigrams: order online, gluten free, home menu, breakfast lunch\n",
            "\n",
            "==> 'Forums':\n",
            "  * Top unigrams: forums, forum, answers, google\n",
            "  * Top bigrams: share knowledge, mon dec, hour ago, post hour\n",
            "\n",
            "==> 'Games':\n",
            "  * Top unigrams: game, games, chess, tournament\n",
            "  * Top bigrams: bridge club, page use, game play, word game\n",
            "\n",
            "==> 'Health and Fitness':\n",
            "  * Top unigrams: medical, patient, disease, yoga\n",
            "  * Top bigrams: personal training, class schedule, yoga practice, yoga yoga\n",
            "\n",
            "==> 'Law and Government':\n",
            "  * Top unigrams: government, police, ministry, legislative\n",
            "  * Top bigrams: government india, press release, skip main, national security\n",
            "\n",
            "==> 'News':\n",
            "  * Top unigrams: trump, politics, coronavirus, modified\n",
            "  * Top bigrams: world news, news world, trend news, breaking news\n",
            "\n",
            "==> 'Photography':\n",
            "  * Top unigrams: photography, photographer, photo, portrait\n",
            "  * Top bigrams: free photo, wedding day, art photography, commercial use\n",
            "\n",
            "==> 'Social Networking and Messaging':\n",
            "  * Top unigrams: chat, cloudflare, suspend, dating\n",
            "  * Top bigrams: chat room, online dating, term privacy, chat rooms\n",
            "\n",
            "==> 'Sports':\n",
            "  * Top unigrams: league, football, badminton, coach\n",
            "  * Top bigrams: premier league, real madrid, sports news, december december\n",
            "\n",
            "==> 'Streaming Services':\n",
            "  * Top unigrams: stream, watch, music, streaming\n",
            "  * Top bigrams: watch movie, video platform, live streaming, free trial\n",
            "\n",
            "==> 'Travel':\n",
            "  * Top unigrams: travel, hotel, booking, trip\n",
            "  * Top bigrams: special offer, car rental, room service, travel agency\n"
          ]
        }
      ],
      "source": [
        "model.fit(features, labels)\n",
        "\n",
        "N = 4\n",
        "for Category, category_id in sorted(category_to_id.items()):\n",
        "  indices = np.argsort(model.coef_[category_id])\n",
        "  feature_names = np.array(tfidf.get_feature_names_out())[indices]\n",
        "  unigrams = [v for v in reversed(feature_names) if len(v.split(' ')) == 1][:N]\n",
        "  bigrams = [v for v in reversed(feature_names) if len(v.split(' ')) == 2][:N]\n",
        "  print(\"\\n==> '{}':\".format(Category))\n",
        "  print(\"  * Top unigrams: %s\" %(', '.join(unigrams)))\n",
        "  print(\"  * Top bigrams: %s\" %(', '.join(bigrams)))"
      ]
    },
    {
      "cell_type": "code",
      "execution_count": 12,
      "metadata": {
        "id": "KdqvrynffRHV"
      },
      "outputs": [
        {
          "name": "stderr",
          "output_type": "stream",
          "text": [
            "c:\\Users\\Annq Zhou\\AppData\\Local\\Programs\\Python\\Python311\\Lib\\site-packages\\sklearn\\svm\\_classes.py:32: FutureWarning: The default value of `dual` will change from `True` to `'auto'` in 1.5. Set the value of `dual` explicitly to suppress the warning.\n",
            "  warnings.warn(\n"
          ]
        }
      ],
      "source": [
        "X_train, X_test, y_train, y_test = train_test_split(X, df['category_id'],\n",
        "                                                    test_size=0.25,\n",
        "                                                    random_state = 0)\n",
        "\n",
        "tfidf = TfidfVectorizer(sublinear_tf=True, min_df=5,\n",
        "                        ngram_range=(1, 2),\n",
        "                        stop_words='english')\n",
        "\n",
        "fitted_vectorizer = tfidf.fit(X_train)\n",
        "tfidf_vectorizer_vectors = fitted_vectorizer.transform(X_train)\n",
        "\n",
        "m = LinearSVC().fit(tfidf_vectorizer_vectors, y_train)\n",
        "\n",
        "m1 = CalibratedClassifierCV(estimator = m, cv=\"prefit\").fit(tfidf_vectorizer_vectors, y_train)"
      ]
    },
    {
      "cell_type": "markdown",
      "metadata": {
        "id": "vJh4EccPfYNL"
      },
      "source": [
        "## Scraping Tool\n",
        "\n",
        "In this section, I am building a scraping tool to scrape the description of domain and use the model to predict its category"
      ]
    },
    {
      "cell_type": "code",
      "execution_count": 13,
      "metadata": {
        "id": "IfDa0dH1f7oF"
      },
      "outputs": [],
      "source": [
        "from bs4 import BeautifulSoup\n",
        "import bs4 as bs4\n",
        "from urllib.parse import urlparse\n",
        "import requests\n",
        "from collections import Counter\n",
        "import pandas as pd\n",
        "import os\n",
        "class ScrapTool:\n",
        "    def visit_url(self, website_url):\n",
        "        '''\n",
        "        Visit URL. Download the Content. Initialize the beautifulsoup object. Call parsing methods. Return Series object.\n",
        "        '''\n",
        "        #headers = {'User-Agent': 'Mozilla/5.0 (Windows NT 6.3; Win64; x64) AppleWebKit/537.36 (KHTML, like Gecko) Chrome/54.0.2840.71 Safari/537.36'}\n",
        "        content = requests.get(website_url,timeout=60).content\n",
        "\n",
        "        #lxml is apparently faster than other settings.\n",
        "        soup = BeautifulSoup(content, \"lxml\")\n",
        "        result = {\n",
        "            \"website_url\": website_url,\n",
        "            \"website_name\": self.get_website_name(website_url),\n",
        "            \"website_text\": self.get_html_title_tag(soup)+self.get_html_meta_tags(soup)+self.get_html_heading_tags(soup)+\n",
        "                                                               self.get_text_content(soup)\n",
        "        }\n",
        "\n",
        "        #Convert to Series object and return\n",
        "        return pd.Series(result)\n",
        "\n",
        "    def get_website_name(self,website_url):\n",
        "        '''\n",
        "        Example: returns \"google\" from \"www.google.com\"\n",
        "        '''\n",
        "        return \"\".join(urlparse(website_url).netloc.split(\".\")[-2])\n",
        "\n",
        "    def get_html_title_tag(self,soup):\n",
        "        '''Return the text content of <title> tag from a webpage'''\n",
        "        return '. '.join(soup.title.contents)\n",
        "\n",
        "    def get_html_meta_tags(self,soup):\n",
        "        '''Returns the text content of <meta> tags related to keywords and description from a webpage'''\n",
        "        tags = soup.find_all(lambda tag: (tag.name==\"meta\") & (tag.has_attr('name') & (tag.has_attr('content'))))\n",
        "        content = [str(tag[\"content\"]) for tag in tags if tag[\"name\"] in ['keywords','description']]\n",
        "        return ' '.join(content)\n",
        "\n",
        "    def get_html_heading_tags(self,soup):\n",
        "        '''returns the text content of heading tags. The assumption is that headings might contain relatively important text.'''\n",
        "        tags = soup.find_all([\"h1\",\"h2\",\"h3\",\"h4\",\"h5\",\"h6\"])\n",
        "        content = [\" \".join(tag.stripped_strings) for tag in tags]\n",
        "        return ' '.join(content)\n",
        "\n",
        "    def get_text_content(self,soup):\n",
        "        '''returns the text content of the whole page with some exception to tags. See tags_to_ignore.'''\n",
        "        tags_to_ignore = ['style', 'script', 'head', 'title', 'meta', '[document]',\"h1\",\"h2\",\"h3\",\"h4\",\"h5\",\"h6\",\"noscript\"]\n",
        "        tags = soup.find_all(text=True)\n",
        "        result = []\n",
        "        for tag in tags:\n",
        "            stripped_tag = tag.strip()\n",
        "            if tag.parent.name not in tags_to_ignore\\\n",
        "                and isinstance(tag, bs4.element.Comment)==False\\\n",
        "                and not stripped_tag.isnumeric()\\\n",
        "                and len(stripped_tag)>0:\n",
        "                result.append(stripped_tag)\n",
        "        return ' '.join(result)\n",
        "\n",
        "import spacy as sp\n",
        "from collections import Counter\n",
        "sp.prefer_gpu()\n",
        "import en_core_web_sm\n",
        "#anconda prompt ko run as adminstrator and copy paste this:python -m spacy download en\n",
        "nlp = en_core_web_sm.load()\n",
        "import re\n",
        "def clean_text(doc):\n",
        "    '''\n",
        "    Clean the document. Remove pronouns, stopwords, lemmatize the words and lowercase them\n",
        "    '''\n",
        "    doc = nlp(doc)\n",
        "    tokens = []\n",
        "    exclusion_list = [\"nan\"]\n",
        "    for token in doc:\n",
        "        if token.is_stop or token.is_punct or token.text.isnumeric() or (token.text.isalnum()==False) or token.text in exclusion_list :\n",
        "            continue\n",
        "        token = str(token.lemma_.lower().strip())\n",
        "        tokens.append(token)\n",
        "    return \" \".join(tokens)"
      ]
    },
    {
      "cell_type": "markdown",
      "metadata": {
        "id": "6p6AAZd1geZi"
      },
      "source": [
        "## Labeling Clickstreams Data\n",
        "\n",
        "In this section, I am iterating over every tld to label its category. I am counting only those websited which streaming time was more then 5 seconds."
      ]
    },
    {
      "cell_type": "code",
      "execution_count": 14,
      "metadata": {
        "colab": {
          "base_uri": "https://localhost:8080/"
        },
        "id": "yyUvphN-CKLy",
        "outputId": "2b52213a-9224-4085-ca2a-3491249fbf5b"
      },
      "outputs": [
        {
          "name": "stdout",
          "output_type": "stream",
          "text": [
            "Social Networking and Messaging\n"
          ]
        },
        {
          "name": "stderr",
          "output_type": "stream",
          "text": [
            "C:\\Users\\Annq Zhou\\AppData\\Local\\Temp\\ipykernel_9532\\3007896706.py:53: DeprecationWarning: The 'text' argument to find()-type methods is deprecated. Use 'string' instead.\n",
            "  tags = soup.find_all(text=True)\n"
          ]
        }
      ],
      "source": [
        "website='https://icloud.com'\n",
        "scrapTool = ScrapTool()\n",
        "try:\n",
        "    web=dict(scrapTool.visit_url(website))\n",
        "    text=(clean_text(web['website_text']))\n",
        "    t=fitted_vectorizer.transform([text])\n",
        "    print(id_to_category[m1.predict(t)[0]])\n",
        "    data=pd.DataFrame(m1.predict_proba(t)*100,columns=df['Category'].unique())\n",
        "    data=data.T\n",
        "    data.columns=['Probability']\n",
        "    data.index.name='Category'\n",
        "    a=data.sort_values(['Probability'],ascending=False)\n",
        "    a['Probability']=a['Probability'].apply(lambda x:round(x,2))\n",
        "except:\n",
        "    print(\"Connection Timedout!\")"
      ]
    },
    {
      "cell_type": "code",
      "execution_count": 15,
      "metadata": {
        "colab": {
          "base_uri": "https://localhost:8080/",
          "height": 204
        },
        "id": "kdU9aRgajQEp",
        "outputId": "66f3a940-494a-4d36-980f-f4838450df65"
      },
      "outputs": [
        {
          "data": {
            "text/html": [
              "<div>\n",
              "<style scoped>\n",
              "    .dataframe tbody tr th:only-of-type {\n",
              "        vertical-align: middle;\n",
              "    }\n",
              "\n",
              "    .dataframe tbody tr th {\n",
              "        vertical-align: top;\n",
              "    }\n",
              "\n",
              "    .dataframe thead th {\n",
              "        text-align: right;\n",
              "    }\n",
              "</style>\n",
              "<table border=\"1\" class=\"dataframe\">\n",
              "  <thead>\n",
              "    <tr style=\"text-align: right;\">\n",
              "      <th></th>\n",
              "      <th>mdn_hash</th>\n",
              "      <th>clickDuration</th>\n",
              "      <th>tld</th>\n",
              "      <th>total_data</th>\n",
              "      <th>zipcode</th>\n",
              "    </tr>\n",
              "  </thead>\n",
              "  <tbody>\n",
              "    <tr>\n",
              "      <th>0</th>\n",
              "      <td>f1d33b2f73242334</td>\n",
              "      <td>120</td>\n",
              "      <td>ibytedtos.com</td>\n",
              "      <td>4915</td>\n",
              "      <td>94901</td>\n",
              "    </tr>\n",
              "    <tr>\n",
              "      <th>1</th>\n",
              "      <td>eb5da755091e7756</td>\n",
              "      <td>1</td>\n",
              "      <td>apple.com</td>\n",
              "      <td>8821</td>\n",
              "      <td>94301</td>\n",
              "    </tr>\n",
              "    <tr>\n",
              "      <th>2</th>\n",
              "      <td>8316e5886a85ad58</td>\n",
              "      <td>134</td>\n",
              "      <td>tiktokcdn-us.com</td>\n",
              "      <td>1537</td>\n",
              "      <td>93314</td>\n",
              "    </tr>\n",
              "    <tr>\n",
              "      <th>3</th>\n",
              "      <td>1d2f9134899da04e</td>\n",
              "      <td>31</td>\n",
              "      <td>apple.com</td>\n",
              "      <td>7750</td>\n",
              "      <td>95670</td>\n",
              "    </tr>\n",
              "    <tr>\n",
              "      <th>4</th>\n",
              "      <td>ba3e39bb4b8a9091</td>\n",
              "      <td>0</td>\n",
              "      <td>apple.com</td>\n",
              "      <td>47814</td>\n",
              "      <td>92805</td>\n",
              "    </tr>\n",
              "  </tbody>\n",
              "</table>\n",
              "</div>"
            ],
            "text/plain": [
              "           mdn_hash  clickDuration               tld  total_data zipcode\n",
              "0  f1d33b2f73242334            120     ibytedtos.com        4915   94901\n",
              "1  eb5da755091e7756              1         apple.com        8821   94301\n",
              "2  8316e5886a85ad58            134  tiktokcdn-us.com        1537   93314\n",
              "3  1d2f9134899da04e             31         apple.com        7750   95670\n",
              "4  ba3e39bb4b8a9091              0         apple.com       47814   92805"
            ]
          },
          "execution_count": 15,
          "metadata": {},
          "output_type": "execute_result"
        }
      ],
      "source": [
        "#read in the data\n",
        "clickstreams = pd.read_hdf('click_df.h5')\n",
        "clickstreams.head()"
      ]
    },
    {
      "cell_type": "markdown",
      "metadata": {
        "id": "DA1A-18aEG7g"
      },
      "source": [
        "In this section, I am creating a column `category`, which would be `None` by default. Then, I will use the m1 model to asssign categories to them."
      ]
    },
    {
      "cell_type": "code",
      "execution_count": 16,
      "metadata": {
        "colab": {
          "base_uri": "https://localhost:8080/",
          "height": 204
        },
        "id": "mcVP9qr7FxJo",
        "outputId": "3b3a6b64-7217-406c-d933-7440b11f4e59"
      },
      "outputs": [
        {
          "data": {
            "text/html": [
              "<div>\n",
              "<style scoped>\n",
              "    .dataframe tbody tr th:only-of-type {\n",
              "        vertical-align: middle;\n",
              "    }\n",
              "\n",
              "    .dataframe tbody tr th {\n",
              "        vertical-align: top;\n",
              "    }\n",
              "\n",
              "    .dataframe thead th {\n",
              "        text-align: right;\n",
              "    }\n",
              "</style>\n",
              "<table border=\"1\" class=\"dataframe\">\n",
              "  <thead>\n",
              "    <tr style=\"text-align: right;\">\n",
              "      <th></th>\n",
              "      <th>tld</th>\n",
              "      <th>category</th>\n",
              "    </tr>\n",
              "  </thead>\n",
              "  <tbody>\n",
              "    <tr>\n",
              "      <th>0</th>\n",
              "      <td>ibytedtos.com</td>\n",
              "      <td>None</td>\n",
              "    </tr>\n",
              "    <tr>\n",
              "      <th>1</th>\n",
              "      <td>apple.com</td>\n",
              "      <td>None</td>\n",
              "    </tr>\n",
              "    <tr>\n",
              "      <th>2</th>\n",
              "      <td>tiktokcdn-us.com</td>\n",
              "      <td>None</td>\n",
              "    </tr>\n",
              "    <tr>\n",
              "      <th>3</th>\n",
              "      <td>garmin.com</td>\n",
              "      <td>None</td>\n",
              "    </tr>\n",
              "    <tr>\n",
              "      <th>4</th>\n",
              "      <td>icloud.com</td>\n",
              "      <td>None</td>\n",
              "    </tr>\n",
              "  </tbody>\n",
              "</table>\n",
              "</div>"
            ],
            "text/plain": [
              "                tld category\n",
              "0     ibytedtos.com     None\n",
              "1         apple.com     None\n",
              "2  tiktokcdn-us.com     None\n",
              "3        garmin.com     None\n",
              "4        icloud.com     None"
            ]
          },
          "execution_count": 16,
          "metadata": {},
          "output_type": "execute_result"
        }
      ],
      "source": [
        "tlds = clickstreams['tld'].unique()\n",
        "\n",
        "#create a dataframe that would store category for every tld\n",
        "categories = {'tld': tlds, 'category': [None] * len(tlds)}\n",
        "categories_df = pd.DataFrame(categories)\n",
        "categories_df.head()\n"
      ]
    },
    {
      "cell_type": "code",
      "execution_count": 43,
      "metadata": {},
      "outputs": [
        {
          "name": "stdout",
          "output_type": "stream",
          "text": [
            "Connection Timedout!\n"
          ]
        }
      ],
      "source": [
        "website='https://' + tlds[24186]\n",
        "scrapTool = ScrapTool()\n",
        "try:\n",
        "    web=dict(scrapTool.visit_url(website))\n",
        "    text=(clean_text(web['website_text']))\n",
        "    t=fitted_vectorizer.transform([text])\n",
        "    print(id_to_category[m1.predict(t)[0]])\n",
        "    data=pd.DataFrame(m1.predict_proba(t)*100,columns=df['Category'].unique())\n",
        "    data=data.T\n",
        "    data.columns=['Probability']\n",
        "    data.index.name='Category'\n",
        "    a=data.sort_values(['Probability'],ascending=False)\n",
        "    a['Probability']=a['Probability'].apply(lambda x:round(x,2))\n",
        "except:\n",
        "    print(\"Connection Timedout!\")"
      ]
    },
    {
      "cell_type": "code",
      "execution_count": 19,
      "metadata": {
        "colab": {
          "base_uri": "https://localhost:8080/"
        },
        "id": "dM9J8102GMvi",
        "outputId": "75fbbe56-6d0b-4c2f-e89b-c770e2f5d1bb"
      },
      "outputs": [
        {
          "name": "stdout",
          "output_type": "stream",
          "text": [
            "Connection Timedout!\n",
            "Connection Timedout!\n",
            "Connection Timedout!\n",
            "Connection Timedout!\n",
            "Connection Timedout!\n"
          ]
        }
      ],
      "source": [
        "for tld in tlds:\n",
        "  website='https://' + str(tld)\n",
        "  scrapTool = ScrapTool()\n",
        "  try:\n",
        "      web=dict(scrapTool.visit_url(website))\n",
        "      text=(clean_text(web['website_text']))\n",
        "      t=fitted_vectorizer.transform([text])\n",
        "      category = id_to_category[m1.predict(t)[0]]\n",
        "      print(id_to_category[m1.predict(t)[0]])\n",
        "      categories_df.loc[categories_df['tld'] == tld, 'category'] = category\n",
        "      data=pd.DataFrame(m1.predict_proba(t)*100,columns=df['Category'].unique())\n",
        "      data=data.T\n",
        "      data.columns=['Probability']\n",
        "      data.index.name='Category'\n",
        "      a=data.sort_values(['Probability'],ascending=False)\n",
        "      a['Probability']=a['Probability'].apply(lambda x:round(x,2))\n",
        "  except:\n",
        "    print(\"Connection Timedout!\")\n",
        "\n"
      ]
    },
    {
      "cell_type": "code",
      "execution_count": 48,
      "metadata": {},
      "outputs": [],
      "source": [
        "# opening the file in read mode \n",
        "my_file = open(\"scraped.txt\", \"r\") \n",
        "  \n",
        "# reading the file \n",
        "data = my_file.read() \n",
        "  \n",
        "# replacing end splitting the text  \n",
        "# when newline ('\\n') is seen. \n",
        "scraped = data.split(\"\\n\") \n",
        "my_file.close() "
      ]
    },
    {
      "cell_type": "code",
      "execution_count": 49,
      "metadata": {},
      "outputs": [
        {
          "data": {
            "text/plain": [
              "69557"
            ]
          },
          "execution_count": 49,
          "metadata": {},
          "output_type": "execute_result"
        }
      ],
      "source": [
        "len(scraped)"
      ]
    },
    {
      "cell_type": "code",
      "execution_count": 50,
      "metadata": {},
      "outputs": [
        {
          "data": {
            "text/html": [
              "<div>\n",
              "<style scoped>\n",
              "    .dataframe tbody tr th:only-of-type {\n",
              "        vertical-align: middle;\n",
              "    }\n",
              "\n",
              "    .dataframe tbody tr th {\n",
              "        vertical-align: top;\n",
              "    }\n",
              "\n",
              "    .dataframe thead th {\n",
              "        text-align: right;\n",
              "    }\n",
              "</style>\n",
              "<table border=\"1\" class=\"dataframe\">\n",
              "  <thead>\n",
              "    <tr style=\"text-align: right;\">\n",
              "      <th></th>\n",
              "      <th>tld</th>\n",
              "      <th>category</th>\n",
              "    </tr>\n",
              "  </thead>\n",
              "  <tbody>\n",
              "    <tr>\n",
              "      <th>0</th>\n",
              "      <td>ibytedtos.com</td>\n",
              "      <td>Connection Timedout!</td>\n",
              "    </tr>\n",
              "    <tr>\n",
              "      <th>1</th>\n",
              "      <td>apple.com</td>\n",
              "      <td>Business/Corporate</td>\n",
              "    </tr>\n",
              "    <tr>\n",
              "      <th>2</th>\n",
              "      <td>tiktokcdn-us.com</td>\n",
              "      <td>Connection Timedout!</td>\n",
              "    </tr>\n",
              "    <tr>\n",
              "      <th>3</th>\n",
              "      <td>garmin.com</td>\n",
              "      <td>E-Commerce</td>\n",
              "    </tr>\n",
              "    <tr>\n",
              "      <th>4</th>\n",
              "      <td>icloud.com</td>\n",
              "      <td>Social Networking and Messaging</td>\n",
              "    </tr>\n",
              "  </tbody>\n",
              "</table>\n",
              "</div>"
            ],
            "text/plain": [
              "                tld                         category\n",
              "0     ibytedtos.com             Connection Timedout!\n",
              "1         apple.com               Business/Corporate\n",
              "2  tiktokcdn-us.com             Connection Timedout!\n",
              "3        garmin.com                       E-Commerce\n",
              "4        icloud.com  Social Networking and Messaging"
            ]
          },
          "execution_count": 50,
          "metadata": {},
          "output_type": "execute_result"
        }
      ],
      "source": [
        "categories = {'tld': tlds, 'category': scraped}\n",
        "categories_df = pd.DataFrame(categories)\n",
        "categories_df.head()"
      ]
    },
    {
      "cell_type": "code",
      "execution_count": 51,
      "metadata": {
        "colab": {
          "base_uri": "https://localhost:8080/",
          "height": 979
        },
        "id": "VtB2FS7REBTE",
        "outputId": "286b0b04-a05d-467e-d7d0-64c08f8d06e8"
      },
      "outputs": [
        {
          "data": {
            "text/html": [
              "<div>\n",
              "<style scoped>\n",
              "    .dataframe tbody tr th:only-of-type {\n",
              "        vertical-align: middle;\n",
              "    }\n",
              "\n",
              "    .dataframe tbody tr th {\n",
              "        vertical-align: top;\n",
              "    }\n",
              "\n",
              "    .dataframe thead th {\n",
              "        text-align: right;\n",
              "    }\n",
              "</style>\n",
              "<table border=\"1\" class=\"dataframe\">\n",
              "  <thead>\n",
              "    <tr style=\"text-align: right;\">\n",
              "      <th></th>\n",
              "      <th>tld</th>\n",
              "      <th>category</th>\n",
              "    </tr>\n",
              "  </thead>\n",
              "  <tbody>\n",
              "    <tr>\n",
              "      <th>0</th>\n",
              "      <td>ibytedtos.com</td>\n",
              "      <td>NaN</td>\n",
              "    </tr>\n",
              "    <tr>\n",
              "      <th>1</th>\n",
              "      <td>apple.com</td>\n",
              "      <td>Business/Corporate</td>\n",
              "    </tr>\n",
              "    <tr>\n",
              "      <th>2</th>\n",
              "      <td>tiktokcdn-us.com</td>\n",
              "      <td>NaN</td>\n",
              "    </tr>\n",
              "    <tr>\n",
              "      <th>3</th>\n",
              "      <td>garmin.com</td>\n",
              "      <td>E-Commerce</td>\n",
              "    </tr>\n",
              "    <tr>\n",
              "      <th>4</th>\n",
              "      <td>icloud.com</td>\n",
              "      <td>Social Networking and Messaging</td>\n",
              "    </tr>\n",
              "  </tbody>\n",
              "</table>\n",
              "</div>"
            ],
            "text/plain": [
              "                tld                         category\n",
              "0     ibytedtos.com                              NaN\n",
              "1         apple.com               Business/Corporate\n",
              "2  tiktokcdn-us.com                              NaN\n",
              "3        garmin.com                       E-Commerce\n",
              "4        icloud.com  Social Networking and Messaging"
            ]
          },
          "execution_count": 51,
          "metadata": {},
          "output_type": "execute_result"
        }
      ],
      "source": [
        "categories_df['category'] = categories_df['category'].replace(\"Connection Timedout!\", np.nan)\n",
        "categories_df.head()"
      ]
    },
    {
      "cell_type": "code",
      "execution_count": 52,
      "metadata": {
        "colab": {
          "base_uri": "https://localhost:8080/"
        },
        "id": "vwehhsj4KAkx",
        "outputId": "0068ac7c-5e44-43b8-eb7c-801f952bacb3"
      },
      "outputs": [
        {
          "name": "stdout",
          "output_type": "stream",
          "text": [
            "[nan 'Business/Corporate' 'E-Commerce' 'Social Networking and Messaging'\n",
            " 'Streaming Services' 'Computers and Technology' 'Sports' 'Photography'\n",
            " 'Travel' 'News' 'Law and Government' 'Games' 'Health and Fitness'\n",
            " 'Forums' 'Education' 'Food' 'Adult']\n"
          ]
        }
      ],
      "source": [
        "unique_category_values = categories_df['category'].unique()\n",
        "print(unique_category_values)"
      ]
    },
    {
      "cell_type": "markdown",
      "metadata": {
        "id": "JoZvccGbj2wR"
      },
      "source": [
        "## Saving data\n",
        "In this section, I am saving analyzed categories to incorporate them into the prediction model.\n"
      ]
    },
    {
      "cell_type": "code",
      "execution_count": 54,
      "metadata": {
        "id": "Bc40ZON_keqh"
      },
      "outputs": [
        {
          "name": "stderr",
          "output_type": "stream",
          "text": [
            "C:\\Users\\Annq Zhou\\AppData\\Local\\Temp\\ipykernel_9532\\456830054.py:2: PerformanceWarning: \n",
            "your performance may suffer as PyTables will pickle object types that it cannot\n",
            "map directly to c-types [inferred_type->mixed,key->block0_values] [items->Index(['tld', 'category'], dtype='object')]\n",
            "\n",
            "  categories_df.to_hdf('classified_tld.h5', 'data')\n"
          ]
        }
      ],
      "source": [
        "#save csv file to the google drive\n",
        "categories_df.to_hdf('classified_tld.h5', 'data')"
      ]
    },
    {
      "cell_type": "markdown",
      "metadata": {
        "id": "wyrAEqHD0uzy"
      },
      "source": [
        "Then, I will aplly one-hot encoding for the websites categories. Also, I am applying labels 'applicable/non-applicable', which mentions if tlds are real and can be accessed."
      ]
    },
    {
      "cell_type": "code",
      "execution_count": 57,
      "metadata": {
        "id": "faFBLvLVLzZx"
      },
      "outputs": [],
      "source": [
        "encoded = pd.get_dummies(categories_df, columns = ['category'], dtype=int)"
      ]
    },
    {
      "cell_type": "code",
      "execution_count": 58,
      "metadata": {
        "colab": {
          "base_uri": "https://localhost:8080/",
          "height": 258
        },
        "id": "wHmkRzvYMTzT",
        "outputId": "404b53ec-e4c8-4e5a-c01e-8e1600ccd108"
      },
      "outputs": [
        {
          "data": {
            "text/html": [
              "<div>\n",
              "<style scoped>\n",
              "    .dataframe tbody tr th:only-of-type {\n",
              "        vertical-align: middle;\n",
              "    }\n",
              "\n",
              "    .dataframe tbody tr th {\n",
              "        vertical-align: top;\n",
              "    }\n",
              "\n",
              "    .dataframe thead th {\n",
              "        text-align: right;\n",
              "    }\n",
              "</style>\n",
              "<table border=\"1\" class=\"dataframe\">\n",
              "  <thead>\n",
              "    <tr style=\"text-align: right;\">\n",
              "      <th></th>\n",
              "      <th>tld</th>\n",
              "      <th>category_Adult</th>\n",
              "      <th>category_Business/Corporate</th>\n",
              "      <th>category_Computers and Technology</th>\n",
              "      <th>category_E-Commerce</th>\n",
              "      <th>category_Education</th>\n",
              "      <th>category_Food</th>\n",
              "      <th>category_Forums</th>\n",
              "      <th>category_Games</th>\n",
              "      <th>category_Health and Fitness</th>\n",
              "      <th>category_Law and Government</th>\n",
              "      <th>category_News</th>\n",
              "      <th>category_Photography</th>\n",
              "      <th>category_Social Networking and Messaging</th>\n",
              "      <th>category_Sports</th>\n",
              "      <th>category_Streaming Services</th>\n",
              "      <th>category_Travel</th>\n",
              "    </tr>\n",
              "  </thead>\n",
              "  <tbody>\n",
              "    <tr>\n",
              "      <th>0</th>\n",
              "      <td>ibytedtos.com</td>\n",
              "      <td>0</td>\n",
              "      <td>0</td>\n",
              "      <td>0</td>\n",
              "      <td>0</td>\n",
              "      <td>0</td>\n",
              "      <td>0</td>\n",
              "      <td>0</td>\n",
              "      <td>0</td>\n",
              "      <td>0</td>\n",
              "      <td>0</td>\n",
              "      <td>0</td>\n",
              "      <td>0</td>\n",
              "      <td>0</td>\n",
              "      <td>0</td>\n",
              "      <td>0</td>\n",
              "      <td>0</td>\n",
              "    </tr>\n",
              "    <tr>\n",
              "      <th>1</th>\n",
              "      <td>apple.com</td>\n",
              "      <td>0</td>\n",
              "      <td>1</td>\n",
              "      <td>0</td>\n",
              "      <td>0</td>\n",
              "      <td>0</td>\n",
              "      <td>0</td>\n",
              "      <td>0</td>\n",
              "      <td>0</td>\n",
              "      <td>0</td>\n",
              "      <td>0</td>\n",
              "      <td>0</td>\n",
              "      <td>0</td>\n",
              "      <td>0</td>\n",
              "      <td>0</td>\n",
              "      <td>0</td>\n",
              "      <td>0</td>\n",
              "    </tr>\n",
              "    <tr>\n",
              "      <th>2</th>\n",
              "      <td>tiktokcdn-us.com</td>\n",
              "      <td>0</td>\n",
              "      <td>0</td>\n",
              "      <td>0</td>\n",
              "      <td>0</td>\n",
              "      <td>0</td>\n",
              "      <td>0</td>\n",
              "      <td>0</td>\n",
              "      <td>0</td>\n",
              "      <td>0</td>\n",
              "      <td>0</td>\n",
              "      <td>0</td>\n",
              "      <td>0</td>\n",
              "      <td>0</td>\n",
              "      <td>0</td>\n",
              "      <td>0</td>\n",
              "      <td>0</td>\n",
              "    </tr>\n",
              "    <tr>\n",
              "      <th>3</th>\n",
              "      <td>garmin.com</td>\n",
              "      <td>0</td>\n",
              "      <td>0</td>\n",
              "      <td>0</td>\n",
              "      <td>1</td>\n",
              "      <td>0</td>\n",
              "      <td>0</td>\n",
              "      <td>0</td>\n",
              "      <td>0</td>\n",
              "      <td>0</td>\n",
              "      <td>0</td>\n",
              "      <td>0</td>\n",
              "      <td>0</td>\n",
              "      <td>0</td>\n",
              "      <td>0</td>\n",
              "      <td>0</td>\n",
              "      <td>0</td>\n",
              "    </tr>\n",
              "    <tr>\n",
              "      <th>4</th>\n",
              "      <td>icloud.com</td>\n",
              "      <td>0</td>\n",
              "      <td>0</td>\n",
              "      <td>0</td>\n",
              "      <td>0</td>\n",
              "      <td>0</td>\n",
              "      <td>0</td>\n",
              "      <td>0</td>\n",
              "      <td>0</td>\n",
              "      <td>0</td>\n",
              "      <td>0</td>\n",
              "      <td>0</td>\n",
              "      <td>0</td>\n",
              "      <td>1</td>\n",
              "      <td>0</td>\n",
              "      <td>0</td>\n",
              "      <td>0</td>\n",
              "    </tr>\n",
              "  </tbody>\n",
              "</table>\n",
              "</div>"
            ],
            "text/plain": [
              "                tld  category_Adult  category_Business/Corporate  \\\n",
              "0     ibytedtos.com               0                            0   \n",
              "1         apple.com               0                            1   \n",
              "2  tiktokcdn-us.com               0                            0   \n",
              "3        garmin.com               0                            0   \n",
              "4        icloud.com               0                            0   \n",
              "\n",
              "   category_Computers and Technology  category_E-Commerce  category_Education  \\\n",
              "0                                  0                    0                   0   \n",
              "1                                  0                    0                   0   \n",
              "2                                  0                    0                   0   \n",
              "3                                  0                    1                   0   \n",
              "4                                  0                    0                   0   \n",
              "\n",
              "   category_Food  category_Forums  category_Games  \\\n",
              "0              0                0               0   \n",
              "1              0                0               0   \n",
              "2              0                0               0   \n",
              "3              0                0               0   \n",
              "4              0                0               0   \n",
              "\n",
              "   category_Health and Fitness  category_Law and Government  category_News  \\\n",
              "0                            0                            0              0   \n",
              "1                            0                            0              0   \n",
              "2                            0                            0              0   \n",
              "3                            0                            0              0   \n",
              "4                            0                            0              0   \n",
              "\n",
              "   category_Photography  category_Social Networking and Messaging  \\\n",
              "0                     0                                         0   \n",
              "1                     0                                         0   \n",
              "2                     0                                         0   \n",
              "3                     0                                         0   \n",
              "4                     0                                         1   \n",
              "\n",
              "   category_Sports  category_Streaming Services  category_Travel  \n",
              "0                0                            0                0  \n",
              "1                0                            0                0  \n",
              "2                0                            0                0  \n",
              "3                0                            0                0  \n",
              "4                0                            0                0  "
            ]
          },
          "execution_count": 58,
          "metadata": {},
          "output_type": "execute_result"
        }
      ],
      "source": [
        "encoded.head()"
      ]
    },
    {
      "cell_type": "code",
      "execution_count": 59,
      "metadata": {
        "id": "bOnqB0KnSYH8"
      },
      "outputs": [],
      "source": [
        "#save csv file to the google drive\n",
        "encoded.to_hdf('encoded.h5', 'data')"
      ]
    },
    {
      "cell_type": "markdown",
      "metadata": {
        "id": "C2UYjwYkqMYY"
      },
      "source": [
        "## Merge datasets\n",
        "In this section, I am merging one-hot encoded websites classsifications with general data"
      ]
    },
    {
      "cell_type": "code",
      "execution_count": 61,
      "metadata": {
        "id": "wtIbhoonqeky"
      },
      "outputs": [],
      "source": [
        "encoded_websites = pd.read_hdf('encoded.h5')"
      ]
    },
    {
      "cell_type": "code",
      "execution_count": 62,
      "metadata": {
        "colab": {
          "base_uri": "https://localhost:8080/",
          "height": 258
        },
        "id": "5AWv7rETqn7A",
        "outputId": "475e08b1-6163-4b01-eb0f-0e58d882dda7"
      },
      "outputs": [
        {
          "data": {
            "text/html": [
              "<div>\n",
              "<style scoped>\n",
              "    .dataframe tbody tr th:only-of-type {\n",
              "        vertical-align: middle;\n",
              "    }\n",
              "\n",
              "    .dataframe tbody tr th {\n",
              "        vertical-align: top;\n",
              "    }\n",
              "\n",
              "    .dataframe thead th {\n",
              "        text-align: right;\n",
              "    }\n",
              "</style>\n",
              "<table border=\"1\" class=\"dataframe\">\n",
              "  <thead>\n",
              "    <tr style=\"text-align: right;\">\n",
              "      <th></th>\n",
              "      <th>tld</th>\n",
              "      <th>category_Adult</th>\n",
              "      <th>category_Business/Corporate</th>\n",
              "      <th>category_Computers and Technology</th>\n",
              "      <th>category_E-Commerce</th>\n",
              "      <th>category_Education</th>\n",
              "      <th>category_Food</th>\n",
              "      <th>category_Forums</th>\n",
              "      <th>category_Games</th>\n",
              "      <th>category_Health and Fitness</th>\n",
              "      <th>category_Law and Government</th>\n",
              "      <th>category_News</th>\n",
              "      <th>category_Photography</th>\n",
              "      <th>category_Social Networking and Messaging</th>\n",
              "      <th>category_Sports</th>\n",
              "      <th>category_Streaming Services</th>\n",
              "      <th>category_Travel</th>\n",
              "    </tr>\n",
              "  </thead>\n",
              "  <tbody>\n",
              "    <tr>\n",
              "      <th>0</th>\n",
              "      <td>ibytedtos.com</td>\n",
              "      <td>0</td>\n",
              "      <td>0</td>\n",
              "      <td>0</td>\n",
              "      <td>0</td>\n",
              "      <td>0</td>\n",
              "      <td>0</td>\n",
              "      <td>0</td>\n",
              "      <td>0</td>\n",
              "      <td>0</td>\n",
              "      <td>0</td>\n",
              "      <td>0</td>\n",
              "      <td>0</td>\n",
              "      <td>0</td>\n",
              "      <td>0</td>\n",
              "      <td>0</td>\n",
              "      <td>0</td>\n",
              "    </tr>\n",
              "    <tr>\n",
              "      <th>1</th>\n",
              "      <td>apple.com</td>\n",
              "      <td>0</td>\n",
              "      <td>1</td>\n",
              "      <td>0</td>\n",
              "      <td>0</td>\n",
              "      <td>0</td>\n",
              "      <td>0</td>\n",
              "      <td>0</td>\n",
              "      <td>0</td>\n",
              "      <td>0</td>\n",
              "      <td>0</td>\n",
              "      <td>0</td>\n",
              "      <td>0</td>\n",
              "      <td>0</td>\n",
              "      <td>0</td>\n",
              "      <td>0</td>\n",
              "      <td>0</td>\n",
              "    </tr>\n",
              "    <tr>\n",
              "      <th>2</th>\n",
              "      <td>tiktokcdn-us.com</td>\n",
              "      <td>0</td>\n",
              "      <td>0</td>\n",
              "      <td>0</td>\n",
              "      <td>0</td>\n",
              "      <td>0</td>\n",
              "      <td>0</td>\n",
              "      <td>0</td>\n",
              "      <td>0</td>\n",
              "      <td>0</td>\n",
              "      <td>0</td>\n",
              "      <td>0</td>\n",
              "      <td>0</td>\n",
              "      <td>0</td>\n",
              "      <td>0</td>\n",
              "      <td>0</td>\n",
              "      <td>0</td>\n",
              "    </tr>\n",
              "    <tr>\n",
              "      <th>3</th>\n",
              "      <td>garmin.com</td>\n",
              "      <td>0</td>\n",
              "      <td>0</td>\n",
              "      <td>0</td>\n",
              "      <td>1</td>\n",
              "      <td>0</td>\n",
              "      <td>0</td>\n",
              "      <td>0</td>\n",
              "      <td>0</td>\n",
              "      <td>0</td>\n",
              "      <td>0</td>\n",
              "      <td>0</td>\n",
              "      <td>0</td>\n",
              "      <td>0</td>\n",
              "      <td>0</td>\n",
              "      <td>0</td>\n",
              "      <td>0</td>\n",
              "    </tr>\n",
              "    <tr>\n",
              "      <th>4</th>\n",
              "      <td>icloud.com</td>\n",
              "      <td>0</td>\n",
              "      <td>0</td>\n",
              "      <td>0</td>\n",
              "      <td>0</td>\n",
              "      <td>0</td>\n",
              "      <td>0</td>\n",
              "      <td>0</td>\n",
              "      <td>0</td>\n",
              "      <td>0</td>\n",
              "      <td>0</td>\n",
              "      <td>0</td>\n",
              "      <td>0</td>\n",
              "      <td>1</td>\n",
              "      <td>0</td>\n",
              "      <td>0</td>\n",
              "      <td>0</td>\n",
              "    </tr>\n",
              "  </tbody>\n",
              "</table>\n",
              "</div>"
            ],
            "text/plain": [
              "                tld  category_Adult  category_Business/Corporate  \\\n",
              "0     ibytedtos.com               0                            0   \n",
              "1         apple.com               0                            1   \n",
              "2  tiktokcdn-us.com               0                            0   \n",
              "3        garmin.com               0                            0   \n",
              "4        icloud.com               0                            0   \n",
              "\n",
              "   category_Computers and Technology  category_E-Commerce  category_Education  \\\n",
              "0                                  0                    0                   0   \n",
              "1                                  0                    0                   0   \n",
              "2                                  0                    0                   0   \n",
              "3                                  0                    1                   0   \n",
              "4                                  0                    0                   0   \n",
              "\n",
              "   category_Food  category_Forums  category_Games  \\\n",
              "0              0                0               0   \n",
              "1              0                0               0   \n",
              "2              0                0               0   \n",
              "3              0                0               0   \n",
              "4              0                0               0   \n",
              "\n",
              "   category_Health and Fitness  category_Law and Government  category_News  \\\n",
              "0                            0                            0              0   \n",
              "1                            0                            0              0   \n",
              "2                            0                            0              0   \n",
              "3                            0                            0              0   \n",
              "4                            0                            0              0   \n",
              "\n",
              "   category_Photography  category_Social Networking and Messaging  \\\n",
              "0                     0                                         0   \n",
              "1                     0                                         0   \n",
              "2                     0                                         0   \n",
              "3                     0                                         0   \n",
              "4                     0                                         1   \n",
              "\n",
              "   category_Sports  category_Streaming Services  category_Travel  \n",
              "0                0                            0                0  \n",
              "1                0                            0                0  \n",
              "2                0                            0                0  \n",
              "3                0                            0                0  \n",
              "4                0                            0                0  "
            ]
          },
          "execution_count": 62,
          "metadata": {},
          "output_type": "execute_result"
        }
      ],
      "source": [
        "encoded_websites.head()"
      ]
    },
    {
      "cell_type": "code",
      "execution_count": 63,
      "metadata": {
        "id": "g9nG89Bjqti5"
      },
      "outputs": [],
      "source": [
        "clickstream_data = pd.read_hdf('click_df.h5')"
      ]
    },
    {
      "cell_type": "code",
      "execution_count": 64,
      "metadata": {
        "colab": {
          "base_uri": "https://localhost:8080/",
          "height": 204
        },
        "id": "Ozgi-ufwq1ZX",
        "outputId": "22feaa63-baf7-48b5-d118-ed5b2bf29c54"
      },
      "outputs": [
        {
          "data": {
            "text/html": [
              "<div>\n",
              "<style scoped>\n",
              "    .dataframe tbody tr th:only-of-type {\n",
              "        vertical-align: middle;\n",
              "    }\n",
              "\n",
              "    .dataframe tbody tr th {\n",
              "        vertical-align: top;\n",
              "    }\n",
              "\n",
              "    .dataframe thead th {\n",
              "        text-align: right;\n",
              "    }\n",
              "</style>\n",
              "<table border=\"1\" class=\"dataframe\">\n",
              "  <thead>\n",
              "    <tr style=\"text-align: right;\">\n",
              "      <th></th>\n",
              "      <th>mdn_hash</th>\n",
              "      <th>clickDuration</th>\n",
              "      <th>tld</th>\n",
              "      <th>total_data</th>\n",
              "      <th>zipcode</th>\n",
              "    </tr>\n",
              "  </thead>\n",
              "  <tbody>\n",
              "    <tr>\n",
              "      <th>0</th>\n",
              "      <td>f1d33b2f73242334</td>\n",
              "      <td>120</td>\n",
              "      <td>ibytedtos.com</td>\n",
              "      <td>4915</td>\n",
              "      <td>94901</td>\n",
              "    </tr>\n",
              "    <tr>\n",
              "      <th>1</th>\n",
              "      <td>eb5da755091e7756</td>\n",
              "      <td>1</td>\n",
              "      <td>apple.com</td>\n",
              "      <td>8821</td>\n",
              "      <td>94301</td>\n",
              "    </tr>\n",
              "    <tr>\n",
              "      <th>2</th>\n",
              "      <td>8316e5886a85ad58</td>\n",
              "      <td>134</td>\n",
              "      <td>tiktokcdn-us.com</td>\n",
              "      <td>1537</td>\n",
              "      <td>93314</td>\n",
              "    </tr>\n",
              "    <tr>\n",
              "      <th>3</th>\n",
              "      <td>1d2f9134899da04e</td>\n",
              "      <td>31</td>\n",
              "      <td>apple.com</td>\n",
              "      <td>7750</td>\n",
              "      <td>95670</td>\n",
              "    </tr>\n",
              "    <tr>\n",
              "      <th>4</th>\n",
              "      <td>ba3e39bb4b8a9091</td>\n",
              "      <td>0</td>\n",
              "      <td>apple.com</td>\n",
              "      <td>47814</td>\n",
              "      <td>92805</td>\n",
              "    </tr>\n",
              "  </tbody>\n",
              "</table>\n",
              "</div>"
            ],
            "text/plain": [
              "           mdn_hash  clickDuration               tld  total_data zipcode\n",
              "0  f1d33b2f73242334            120     ibytedtos.com        4915   94901\n",
              "1  eb5da755091e7756              1         apple.com        8821   94301\n",
              "2  8316e5886a85ad58            134  tiktokcdn-us.com        1537   93314\n",
              "3  1d2f9134899da04e             31         apple.com        7750   95670\n",
              "4  ba3e39bb4b8a9091              0         apple.com       47814   92805"
            ]
          },
          "execution_count": 64,
          "metadata": {},
          "output_type": "execute_result"
        }
      ],
      "source": [
        "clickstream_data.head()"
      ]
    },
    {
      "cell_type": "code",
      "execution_count": 65,
      "metadata": {
        "id": "HfT9tHAwq__i"
      },
      "outputs": [],
      "source": [
        "clickstreams_classified = clickstream_data.merge(encoded_websites, on='tld', how='left')"
      ]
    },
    {
      "cell_type": "code",
      "execution_count": 66,
      "metadata": {
        "colab": {
          "base_uri": "https://localhost:8080/",
          "height": 287
        },
        "id": "RlkHaHuqr3Hg",
        "outputId": "46cd23f8-84d9-49d3-d94e-a32f2c7819fa"
      },
      "outputs": [
        {
          "data": {
            "text/html": [
              "<div>\n",
              "<style scoped>\n",
              "    .dataframe tbody tr th:only-of-type {\n",
              "        vertical-align: middle;\n",
              "    }\n",
              "\n",
              "    .dataframe tbody tr th {\n",
              "        vertical-align: top;\n",
              "    }\n",
              "\n",
              "    .dataframe thead th {\n",
              "        text-align: right;\n",
              "    }\n",
              "</style>\n",
              "<table border=\"1\" class=\"dataframe\">\n",
              "  <thead>\n",
              "    <tr style=\"text-align: right;\">\n",
              "      <th></th>\n",
              "      <th>mdn_hash</th>\n",
              "      <th>clickDuration</th>\n",
              "      <th>tld</th>\n",
              "      <th>total_data</th>\n",
              "      <th>zipcode</th>\n",
              "      <th>category_Adult</th>\n",
              "      <th>category_Business/Corporate</th>\n",
              "      <th>category_Computers and Technology</th>\n",
              "      <th>category_E-Commerce</th>\n",
              "      <th>category_Education</th>\n",
              "      <th>...</th>\n",
              "      <th>category_Forums</th>\n",
              "      <th>category_Games</th>\n",
              "      <th>category_Health and Fitness</th>\n",
              "      <th>category_Law and Government</th>\n",
              "      <th>category_News</th>\n",
              "      <th>category_Photography</th>\n",
              "      <th>category_Social Networking and Messaging</th>\n",
              "      <th>category_Sports</th>\n",
              "      <th>category_Streaming Services</th>\n",
              "      <th>category_Travel</th>\n",
              "    </tr>\n",
              "  </thead>\n",
              "  <tbody>\n",
              "    <tr>\n",
              "      <th>0</th>\n",
              "      <td>f1d33b2f73242334</td>\n",
              "      <td>120</td>\n",
              "      <td>ibytedtos.com</td>\n",
              "      <td>4915</td>\n",
              "      <td>94901</td>\n",
              "      <td>0</td>\n",
              "      <td>0</td>\n",
              "      <td>0</td>\n",
              "      <td>0</td>\n",
              "      <td>0</td>\n",
              "      <td>...</td>\n",
              "      <td>0</td>\n",
              "      <td>0</td>\n",
              "      <td>0</td>\n",
              "      <td>0</td>\n",
              "      <td>0</td>\n",
              "      <td>0</td>\n",
              "      <td>0</td>\n",
              "      <td>0</td>\n",
              "      <td>0</td>\n",
              "      <td>0</td>\n",
              "    </tr>\n",
              "    <tr>\n",
              "      <th>1</th>\n",
              "      <td>eb5da755091e7756</td>\n",
              "      <td>1</td>\n",
              "      <td>apple.com</td>\n",
              "      <td>8821</td>\n",
              "      <td>94301</td>\n",
              "      <td>0</td>\n",
              "      <td>1</td>\n",
              "      <td>0</td>\n",
              "      <td>0</td>\n",
              "      <td>0</td>\n",
              "      <td>...</td>\n",
              "      <td>0</td>\n",
              "      <td>0</td>\n",
              "      <td>0</td>\n",
              "      <td>0</td>\n",
              "      <td>0</td>\n",
              "      <td>0</td>\n",
              "      <td>0</td>\n",
              "      <td>0</td>\n",
              "      <td>0</td>\n",
              "      <td>0</td>\n",
              "    </tr>\n",
              "    <tr>\n",
              "      <th>2</th>\n",
              "      <td>8316e5886a85ad58</td>\n",
              "      <td>134</td>\n",
              "      <td>tiktokcdn-us.com</td>\n",
              "      <td>1537</td>\n",
              "      <td>93314</td>\n",
              "      <td>0</td>\n",
              "      <td>0</td>\n",
              "      <td>0</td>\n",
              "      <td>0</td>\n",
              "      <td>0</td>\n",
              "      <td>...</td>\n",
              "      <td>0</td>\n",
              "      <td>0</td>\n",
              "      <td>0</td>\n",
              "      <td>0</td>\n",
              "      <td>0</td>\n",
              "      <td>0</td>\n",
              "      <td>0</td>\n",
              "      <td>0</td>\n",
              "      <td>0</td>\n",
              "      <td>0</td>\n",
              "    </tr>\n",
              "    <tr>\n",
              "      <th>3</th>\n",
              "      <td>1d2f9134899da04e</td>\n",
              "      <td>31</td>\n",
              "      <td>apple.com</td>\n",
              "      <td>7750</td>\n",
              "      <td>95670</td>\n",
              "      <td>0</td>\n",
              "      <td>1</td>\n",
              "      <td>0</td>\n",
              "      <td>0</td>\n",
              "      <td>0</td>\n",
              "      <td>...</td>\n",
              "      <td>0</td>\n",
              "      <td>0</td>\n",
              "      <td>0</td>\n",
              "      <td>0</td>\n",
              "      <td>0</td>\n",
              "      <td>0</td>\n",
              "      <td>0</td>\n",
              "      <td>0</td>\n",
              "      <td>0</td>\n",
              "      <td>0</td>\n",
              "    </tr>\n",
              "    <tr>\n",
              "      <th>4</th>\n",
              "      <td>ba3e39bb4b8a9091</td>\n",
              "      <td>0</td>\n",
              "      <td>apple.com</td>\n",
              "      <td>47814</td>\n",
              "      <td>92805</td>\n",
              "      <td>0</td>\n",
              "      <td>1</td>\n",
              "      <td>0</td>\n",
              "      <td>0</td>\n",
              "      <td>0</td>\n",
              "      <td>...</td>\n",
              "      <td>0</td>\n",
              "      <td>0</td>\n",
              "      <td>0</td>\n",
              "      <td>0</td>\n",
              "      <td>0</td>\n",
              "      <td>0</td>\n",
              "      <td>0</td>\n",
              "      <td>0</td>\n",
              "      <td>0</td>\n",
              "      <td>0</td>\n",
              "    </tr>\n",
              "  </tbody>\n",
              "</table>\n",
              "<p>5 rows × 21 columns</p>\n",
              "</div>"
            ],
            "text/plain": [
              "           mdn_hash  clickDuration               tld  total_data zipcode  \\\n",
              "0  f1d33b2f73242334            120     ibytedtos.com        4915   94901   \n",
              "1  eb5da755091e7756              1         apple.com        8821   94301   \n",
              "2  8316e5886a85ad58            134  tiktokcdn-us.com        1537   93314   \n",
              "3  1d2f9134899da04e             31         apple.com        7750   95670   \n",
              "4  ba3e39bb4b8a9091              0         apple.com       47814   92805   \n",
              "\n",
              "   category_Adult  category_Business/Corporate  \\\n",
              "0               0                            0   \n",
              "1               0                            1   \n",
              "2               0                            0   \n",
              "3               0                            1   \n",
              "4               0                            1   \n",
              "\n",
              "   category_Computers and Technology  category_E-Commerce  category_Education  \\\n",
              "0                                  0                    0                   0   \n",
              "1                                  0                    0                   0   \n",
              "2                                  0                    0                   0   \n",
              "3                                  0                    0                   0   \n",
              "4                                  0                    0                   0   \n",
              "\n",
              "   ...  category_Forums  category_Games  category_Health and Fitness  \\\n",
              "0  ...                0               0                            0   \n",
              "1  ...                0               0                            0   \n",
              "2  ...                0               0                            0   \n",
              "3  ...                0               0                            0   \n",
              "4  ...                0               0                            0   \n",
              "\n",
              "   category_Law and Government  category_News  category_Photography  \\\n",
              "0                            0              0                     0   \n",
              "1                            0              0                     0   \n",
              "2                            0              0                     0   \n",
              "3                            0              0                     0   \n",
              "4                            0              0                     0   \n",
              "\n",
              "   category_Social Networking and Messaging  category_Sports  \\\n",
              "0                                         0                0   \n",
              "1                                         0                0   \n",
              "2                                         0                0   \n",
              "3                                         0                0   \n",
              "4                                         0                0   \n",
              "\n",
              "   category_Streaming Services  category_Travel  \n",
              "0                            0                0  \n",
              "1                            0                0  \n",
              "2                            0                0  \n",
              "3                            0                0  \n",
              "4                            0                0  \n",
              "\n",
              "[5 rows x 21 columns]"
            ]
          },
          "execution_count": 66,
          "metadata": {},
          "output_type": "execute_result"
        }
      ],
      "source": [
        "clickstreams_classified.head()"
      ]
    },
    {
      "cell_type": "code",
      "execution_count": 67,
      "metadata": {
        "colab": {
          "base_uri": "https://localhost:8080/"
        },
        "id": "0og9N6EHsJOe",
        "outputId": "25a7a250-d59a-4ca2-ee03-273c85fb9d25"
      },
      "outputs": [
        {
          "data": {
            "text/plain": [
              "(51546102, 21)"
            ]
          },
          "execution_count": 67,
          "metadata": {},
          "output_type": "execute_result"
        }
      ],
      "source": [
        "clickstreams_classified.shape"
      ]
    },
    {
      "cell_type": "code",
      "execution_count": 68,
      "metadata": {
        "colab": {
          "base_uri": "https://localhost:8080/"
        },
        "id": "cBHcayGdsbMv",
        "outputId": "b03f300d-de81-4d92-c279-b2c56fb656c6"
      },
      "outputs": [
        {
          "data": {
            "text/plain": [
              "(51546102, 5)"
            ]
          },
          "execution_count": 68,
          "metadata": {},
          "output_type": "execute_result"
        }
      ],
      "source": [
        "clickstream_data.shape"
      ]
    },
    {
      "cell_type": "code",
      "execution_count": null,
      "metadata": {
        "id": "Zf2wKPexsIXg"
      },
      "outputs": [],
      "source": [
        "#save csv file to the google drive\n",
        "clickstreams_classified.to_hdf('clickstreams_classified.h5', 'data')"
      ]
    },
    {
      "cell_type": "code",
      "execution_count": null,
      "metadata": {},
      "outputs": [],
      "source": []
    }
  ],
  "metadata": {
    "colab": {
      "provenance": []
    },
    "kernelspec": {
      "display_name": "Python 3",
      "name": "python3"
    },
    "language_info": {
      "codemirror_mode": {
        "name": "ipython",
        "version": 3
      },
      "file_extension": ".py",
      "mimetype": "text/x-python",
      "name": "python",
      "nbconvert_exporter": "python",
      "pygments_lexer": "ipython3",
      "version": "3.11.3"
    }
  },
  "nbformat": 4,
  "nbformat_minor": 0
}
